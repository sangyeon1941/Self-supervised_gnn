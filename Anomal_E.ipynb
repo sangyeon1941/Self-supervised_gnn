{
  "cells": [
    {
      "cell_type": "code",
      "execution_count": 1,
      "metadata": {
        "id": "Hjc3iIihKLn-"
      },
      "outputs": [
        {
          "name": "stderr",
          "output_type": "stream",
          "text": [
            "C:\\Users\\HOSEO\\AppData\\Local\\Temp\\ipykernel_1968\\2875759605.py:1: DeprecationWarning: \n",
            "Pyarrow will become a required dependency of pandas in the next major release of pandas (pandas 3.0),\n",
            "(to allow more performant data types, such as the Arrow string type, and better interoperability with other libraries)\n",
            "but was not found to be installed on your system.\n",
            "If this would cause problems for you,\n",
            "please provide us feedback at https://github.com/pandas-dev/pandas/issues/54466\n",
            "        \n",
            "  import pandas as pd\n"
          ]
        }
      ],
      "source": [
        "import pandas as pd\n",
        "import numpy as np\n",
        "import torch\n",
        "from sklearn import preprocessing\n",
        "from dgl.data import DGLDataset\n",
        "import dgl\n",
        "import time\n",
        "import networkx as nx\n",
        "import category_encoders as ce\n",
        "import torch.nn as nn\n",
        "import torch.nn.functional as F\n",
        "import dgl.function as fn\n",
        "import torch\n",
        "import tqdm\n",
        "import math\n",
        "\n",
        "from typing import *\n",
        "from sklearn.preprocessing import StandardScaler, Normalizer\n",
        "import socket\n",
        "import struct\n",
        "import random\n",
        "from sklearn.model_selection import train_test_split"
      ]
    },
    {
      "cell_type": "code",
      "execution_count": 30,
      "metadata": {
        "id": "SvWHb_BpKsLq"
      },
      "outputs": [],
      "source": [
        "train_name = \"30s_split_Train_data.csv\"\n",
        "train_data = pd.read_csv(train_name)\n",
        "\n",
        "test_name = \"30s_split_Test_data.csv\"\n",
        "test_data = pd.read_csv(test_name)"
      ]
    },
    {
      "cell_type": "code",
      "execution_count": 31,
      "metadata": {},
      "outputs": [],
      "source": [
        "def make_label(df):\n",
        "    Label = []\n",
        "    for i in range(len(df)):\n",
        "        if df.loc[i]['label'] == 'normal':\n",
        "            Label.append(0)\n",
        "        else:\n",
        "            Label.append(1)\n",
        "    df['Label'] = Label\n",
        "    df['Attack'] = df['label']\n",
        "    df = df.drop(columns = \"label\")\n",
        "    return df"
      ]
    },
    {
      "cell_type": "code",
      "execution_count": 32,
      "metadata": {},
      "outputs": [],
      "source": [
        "train_data = make_label(train_data)\n",
        "test_data = make_label(test_data)"
      ]
    },
    {
      "cell_type": "code",
      "execution_count": 33,
      "metadata": {},
      "outputs": [],
      "source": [
        "train_data.rename(columns=lambda x: x.strip(), inplace=True)\n",
        "train_data['#1:Client IP'] = train_data[\"#1:Client IP\"].apply(str)\n",
        "train_data['3:Client Port'] = train_data[\"3:Client Port\"].apply(str)\n",
        "train_data['2:Server IP'] = train_data[\"2:Server IP\"].apply(str)\n",
        "train_data['4:Server Port'] = train_data[\"4:Server Port\"].apply(str)"
      ]
    },
    {
      "cell_type": "code",
      "execution_count": 34,
      "metadata": {},
      "outputs": [],
      "source": [
        "test_data.rename(columns=lambda x: x.strip(), inplace=True)\n",
        "test_data['#1:Client IP'] = test_data[\"#1:Client IP\"].apply(str)\n",
        "test_data['3:Client Port'] = test_data[\"3:Client Port\"].apply(str)\n",
        "test_data['2:Server IP'] = test_data[\"2:Server IP\"].apply(str)\n",
        "test_data['4:Server Port'] = test_data[\"4:Server Port\"].apply(str)"
      ]
    },
    {
      "cell_type": "code",
      "execution_count": 35,
      "metadata": {},
      "outputs": [],
      "source": [
        "train_data.drop(columns=[\"3:Client Port\", \"4:Server Port\"], inplace=True)\n",
        "test_data.drop(columns=[\"3:Client Port\", \"4:Server Port\"], inplace=True)"
      ]
    },
    {
      "cell_type": "code",
      "execution_count": 36,
      "metadata": {
        "id": "bTtHq0XqNXxI"
      },
      "outputs": [],
      "source": [
        "# train_data.drop(columns=[\" 6:Start Time\", ' 3:Client Port', ' 4:Server Port'], inplace=True)\n",
        "# test_data.drop(columns=[\" 6:Start Time\", ' 3:Client Port', ' 4:Server Port'], inplace=True)"
      ]
    },
    {
      "cell_type": "code",
      "execution_count": 39,
      "metadata": {
        "id": "FqRx5xCPOuv8"
      },
      "outputs": [],
      "source": [
        "X_train = train_data.drop(columns=['Label',\"Attack\"])\n",
        "X_test = test_data.drop(columns=['Label',\"Attack\"])\n",
        "y_train = train_data[['Label',\"Attack\"]]\n",
        "y_test = test_data[['Label',\"Attack\"]]"
      ]
    },
    {
      "cell_type": "code",
      "execution_count": 40,
      "metadata": {},
      "outputs": [],
      "source": [
        "X_train.replace([np.inf, -np.inf], np.nan, inplace=True)\n",
        "X_test.replace([np.inf, -np.inf], np.nan, inplace=True)\n",
        "X_train.fillna(0, inplace=True)\n",
        "X_test.fillna(0, inplace=True)"
      ]
    },
    {
      "cell_type": "code",
      "execution_count": 41,
      "metadata": {},
      "outputs": [],
      "source": [
        "scaler = StandardScaler()\n",
        "cols_to_norm = list(set(list(X_train.drop(columns=[\"#1:Client IP\",\"2:Server IP\",\"6:Start Time\"]).columns))) # Ignore first two as the represents IP addresses\n",
        "scaler.fit(X_train[cols_to_norm])\n",
        "\n",
        "# Transform on training set\n",
        "X_train[cols_to_norm] = scaler.transform(X_train[cols_to_norm])\n",
        "X_train['h'] = X_train.iloc[:, 5:].values.tolist()\n",
        "\n",
        "# Transform on testing set\n",
        "X_test[cols_to_norm] = scaler.transform(X_test[cols_to_norm])\n",
        "X_test['h'] = X_test.iloc[:, 5:].values.tolist()\n",
        "\n",
        "train = pd.concat([X_train, y_train], axis=1)\n",
        "test = pd.concat([X_test, y_test], axis=1)"
      ]
    },
    {
      "cell_type": "code",
      "execution_count": 42,
      "metadata": {},
      "outputs": [],
      "source": [
        "lab_enc = preprocessing.LabelEncoder()\n",
        "lab_enc.fit(train_data[\"Attack\"])\n",
        "\n",
        "# Transform on training set\n",
        "train[\"Attack\"] = lab_enc.transform(train[\"Attack\"])\n",
        "# Transform on testing set\n",
        "test[\"Attack\"] = lab_enc.transform(test[\"Attack\"])"
      ]
    },
    {
      "cell_type": "code",
      "execution_count": 43,
      "metadata": {
        "id": "bPfakXplPGGx"
      },
      "outputs": [],
      "source": [
        "# Training graph\n",
        "train_g = nx.from_pandas_edgelist(train, \"#1:Client IP\", \"2:Server IP\",\n",
        "            [\"h\", \"Label\", \"Attack\"], create_using=nx.MultiGraph())\n",
        "train_g = train_g.to_directed()\n",
        "train_g = dgl.from_networkx(train_g, edge_attrs=['h', 'Attack', 'Label'])\n",
        "nfeat_weight = torch.ones([train_g.number_of_nodes(),\n",
        "train_g.edata['h'].shape[1]])\n",
        "train_g.ndata['h'] = nfeat_weight\n",
        "# Testing graph\n",
        "test_g = nx.from_pandas_edgelist(test, \"#1:Client IP\", \"2:Server IP\",\n",
        "            [\"h\", \"Label\", \"Attack\"], create_using=nx.MultiGraph())\n",
        "node = sorted(test_g.nodes())\n",
        "test_g = test_g.to_directed()\n",
        "test_g = dgl.from_networkx(test_g, edge_attrs=['h', 'Attack', 'Label'])\n",
        "nfeat_weight = torch.ones([test_g.number_of_nodes(),\n",
        "test_g.edata['h'].shape[1]])\n",
        "test_g.ndata['h'] = nfeat_weight"
      ]
    },
    {
      "cell_type": "code",
      "execution_count": 44,
      "metadata": {
        "id": "PUV6DgJ9QRaP"
      },
      "outputs": [],
      "source": [
        "import torch.nn as nn\n",
        "import torch.nn.functional as F\n",
        "import dgl.function as fn\n",
        "import tqdm\n",
        "import gc\n",
        "\n",
        "class SAGELayer(nn.Module):\n",
        "    def __init__(self, ndim_in, edims, ndim_out, activation):\n",
        "      super(SAGELayer, self).__init__()\n",
        "      self.W_apply = nn.Linear(ndim_in + edims , ndim_out)\n",
        "      self.activation = F.relu\n",
        "      self.W_edge = nn.Linear(128 * 2, 256)\n",
        "      self.reset_parameters()\n",
        "\n",
        "    def reset_parameters(self):\n",
        "      gain = nn.init.calculate_gain('relu')\n",
        "      nn.init.xavier_uniform_(self.W_apply.weight, gain=gain)\n",
        "\n",
        "    def message_func(self, edges):\n",
        "      return {'m':  edges.data['h']}\n",
        "\n",
        "    def forward(self, g_dgl, nfeats, efeats):\n",
        "      with g_dgl.local_scope():\n",
        "        g = g_dgl\n",
        "        g.ndata['h'] = nfeats\n",
        "        g.edata['h'] = efeats\n",
        "        g.update_all(self.message_func, fn.mean('m', 'h_neigh'))\n",
        "        g.ndata['h'] = F.relu(self.W_apply(torch.cat([g.ndata['h'], g.ndata['h_neigh']], 2)))\n",
        "\n",
        "        # Compute edge embeddings\n",
        "        u, v = g.edges()\n",
        "        edge = self.W_edge(torch.cat((g.srcdata['h'][u], g.dstdata['h'][v]), 2))\n",
        "        return g.ndata['h'], edge"
      ]
    },
    {
      "cell_type": "code",
      "execution_count": 45,
      "metadata": {
        "id": "_xo-3K4QRGqc"
      },
      "outputs": [],
      "source": [
        "class SAGE(nn.Module):\n",
        "    def __init__(self, ndim_in, ndim_out, edim,  activation):\n",
        "      super(SAGE, self).__init__()\n",
        "      self.layers = nn.ModuleList()\n",
        "      self.layers.append(SAGELayer(ndim_in, edim, 128, F.relu))\n",
        "\n",
        "    def forward(self, g, nfeats, efeats, corrupt=False):\n",
        "      if corrupt:\n",
        "        e_perm = torch.randperm(g.number_of_edges())\n",
        "        #n_perm = torch.randperm(g.number_of_nodes())\n",
        "        efeats = efeats[e_perm]\n",
        "        #nfeats = nfeats[n_perm]\n",
        "      for i, layer in enumerate(self.layers):\n",
        "        #nfeats = layer(g, nfeats, efeats)\n",
        "        nfeats, e_feats = layer(g, nfeats, efeats)\n",
        "      #return nfeats.sum(1)\n",
        "      return nfeats.sum(1), e_feats.sum(1)"
      ]
    },
    {
      "cell_type": "code",
      "execution_count": 46,
      "metadata": {
        "id": "6uuxRtLuRJQL"
      },
      "outputs": [],
      "source": [
        "class Discriminator(nn.Module):\n",
        "    def __init__(self, n_hidden):\n",
        "      super(Discriminator, self).__init__()\n",
        "      self.weight = nn.Parameter(torch.Tensor(n_hidden, n_hidden))\n",
        "      self.reset_parameters()\n",
        "\n",
        "    def uniform(self, size, tensor):\n",
        "      bound = 1.0 / math.sqrt(size)\n",
        "      if tensor is not None:\n",
        "        tensor.data.uniform_(-bound, bound)\n",
        "\n",
        "    def reset_parameters(self):\n",
        "      size = self.weight.size(0)\n",
        "      self.uniform(size, self.weight)\n",
        "\n",
        "    def forward(self, features, summary):\n",
        "      features = torch.matmul(features, torch.matmul(self.weight, summary))\n",
        "      return features"
      ]
    },
    {
      "cell_type": "code",
      "execution_count": 47,
      "metadata": {
        "id": "ZPbVjlCyRUco"
      },
      "outputs": [],
      "source": [
        "class DGI(nn.Module):\n",
        "    def __init__(self, ndim_in, ndim_out, edim, activation):\n",
        "      super(DGI, self).__init__()\n",
        "      self.encoder = SAGE(ndim_in, ndim_out, edim,  F.relu)\n",
        "      #self.discriminator = Discriminator(128)\n",
        "      self.discriminator = Discriminator(256)\n",
        "      self.loss = nn.BCEWithLogitsLoss()\n",
        "\n",
        "    def forward(self, g, n_features, e_features):\n",
        "      positive = self.encoder(g, n_features, e_features, corrupt=False)\n",
        "      negative = self.encoder(g, n_features, e_features, corrupt=True)\n",
        "      self.loss = nn.BCEWithLogitsLoss()\n",
        "\n",
        "    def forward(self, g, n_features, e_features):\n",
        "      positive = self.encoder(g, n_features, e_features, corrupt=False)\n",
        "      negative = self.encoder(g, n_features, e_features, corrupt=True)\n",
        "\n",
        "      positive = positive[1]\n",
        "      negative = negative[1]\n",
        "\n",
        "      summary = torch.sigmoid(positive.mean(dim=0))\n",
        "\n",
        "      positive = self.discriminator(positive, summary)\n",
        "      negative = self.discriminator(negative, summary)\n",
        "\n",
        "      l1 = self.loss(positive, torch.ones_like(positive))\n",
        "      l2 = self.loss(negative, torch.zeros_like(negative))\n",
        "\n",
        "      return l1 + l2"
      ]
    },
    {
      "cell_type": "code",
      "execution_count": 48,
      "metadata": {
        "id": "sKnfpWFMR19u"
      },
      "outputs": [],
      "source": [
        "ndim_in = train_g.ndata['h'].shape[1]\n",
        "hidden_features = 128\n",
        "ndim_out = 128\n",
        "num_layers = 1\n",
        "edim = train_g.edata['h'].shape[1]\n",
        "learning_rate = 1e-3\n",
        "epochs = 4000"
      ]
    },
    {
      "cell_type": "code",
      "execution_count": 49,
      "metadata": {
        "id": "aSl_9qY8SbA0"
      },
      "outputs": [],
      "source": [
        "dgi = DGI(ndim_in,\n",
        "    ndim_out,\n",
        "    edim,\n",
        "    F.relu)\n",
        "\n",
        "dgi_optimizer = torch.optim.Adam(dgi.parameters(),\n",
        "                lr=1e-3,\n",
        "                weight_decay=0.)"
      ]
    },
    {
      "cell_type": "code",
      "execution_count": 50,
      "metadata": {
        "id": "9K6_cOiWSdJA"
      },
      "outputs": [],
      "source": [
        "# Format node and edge features for E-GraphSAGE\n",
        "train_g.ndata['h'] = torch.reshape(train_g.ndata['h'],\n",
        "                                   (train_g.ndata['h'].shape[0], 1,\n",
        "                                    train_g.ndata['h'].shape[1]))\n",
        "\n",
        "train_g.edata['h'] = torch.reshape(train_g.edata['h'],\n",
        "                                   (train_g.edata['h'].shape[0], 1,\n",
        "                                    train_g.edata['h'].shape[1]))"
      ]
    },
    {
      "cell_type": "code",
      "execution_count": 51,
      "metadata": {
        "id": "O44auIyWSexg"
      },
      "outputs": [],
      "source": [
        "# Convert to GPU\n",
        "train_g = train_g"
      ]
    },
    {
      "cell_type": "code",
      "execution_count": null,
      "metadata": {
        "id": "gZtafIdxSheN"
      },
      "outputs": [],
      "source": [
        "cnt_wait = 0\n",
        "best = 1e9\n",
        "best_t = 0\n",
        "dur = []\n",
        "node_features = train_g.ndata['h']\n",
        "edge_features = train_g.edata['h']\n",
        "\n",
        "for epoch in range(epochs):\n",
        "    dgi.train()\n",
        "    if epoch >= 3:\n",
        "        t0 = time.time()\n",
        "\n",
        "    dgi_optimizer.zero_grad()\n",
        "    loss = dgi(train_g, node_features, edge_features)\n",
        "    loss.backward()\n",
        "    dgi_optimizer.step()\n",
        "\n",
        "    if loss < best:\n",
        "        best = loss\n",
        "        best_t = epoch\n",
        "        cnt_wait = 0\n",
        "        torch.save(dgi.state_dict(), 'best_dgi.pkl')\n",
        "    else:\n",
        "        cnt_wait += 1\n",
        "\n",
        "  # if cnt_wait == patience:\n",
        "  #     print('Early stopping!')\n",
        "  #     break\n",
        "\n",
        "    if epoch >= 3:\n",
        "        dur.append(time.time() - t0)\n",
        "\n",
        "    if epoch % 50 == 0:\n",
        "\n",
        "        print(\"Epoch {:05d} | Time(s) {:.4f} | Loss {:.4f} | \"\n",
        "            \"ETputs(KTEPS) {:.2f}\".format(epoch, np.mean(dur),\n",
        "              loss.item(),\n",
        "              train_g.num_edges() / np.mean(dur) / 1000))"
      ]
    },
    {
      "cell_type": "code",
      "execution_count": 53,
      "metadata": {
        "id": "RZ2HAQDAF-4c",
        "outputId": "79b6374d-390e-4571-df1d-ee46792480f7"
      },
      "outputs": [
        {
          "data": {
            "text/plain": [
              "<All keys matched successfully>"
            ]
          },
          "execution_count": 53,
          "metadata": {},
          "output_type": "execute_result"
        }
      ],
      "source": [
        "dgi.load_state_dict(torch.load('best_dgi.pkl'))"
      ]
    },
    {
      "cell_type": "code",
      "execution_count": 54,
      "metadata": {
        "id": "6Ek16GkRStKP"
      },
      "outputs": [],
      "source": [
        "training_emb = dgi.encoder(train_g, train_g.ndata['h'], train_g.edata['h'])[1]\n",
        "training_emb = training_emb.detach().cpu().numpy()"
      ]
    },
    {
      "cell_type": "code",
      "execution_count": 55,
      "metadata": {
        "id": "-FwaBlOdS4ep"
      },
      "outputs": [],
      "source": [
        "test_g.ndata['h'] = torch.reshape(test_g.ndata['h'],\n",
        "                                   (test_g.ndata['h'].shape[0], 1,\n",
        "                                    test_g.ndata['h'].shape[1]))\n",
        "\n",
        "\n",
        "\n",
        "test_g.edata['h'] = torch.reshape(test_g.edata['h'],\n",
        "                                   (test_g.edata['h'].shape[0], 1,\n",
        "                                    test_g.edata['h'].shape[1]))"
      ]
    },
    {
      "cell_type": "code",
      "execution_count": 56,
      "metadata": {
        "id": "SBa-rdivS6cQ"
      },
      "outputs": [],
      "source": [
        "# Convert to GPU\n",
        "test_g = test_g"
      ]
    },
    {
      "cell_type": "code",
      "execution_count": 57,
      "metadata": {
        "id": "W12WLjslS-kx"
      },
      "outputs": [],
      "source": [
        "testing_emb = dgi.encoder(test_g, test_g.ndata['h'], test_g.edata['h'])[1]\n",
        "testing_emb = testing_emb.detach().cpu().numpy()"
      ]
    },
    {
      "cell_type": "code",
      "execution_count": 58,
      "metadata": {
        "id": "ERsOAMjeS_D8"
      },
      "outputs": [],
      "source": [
        "df_train = pd.DataFrame(training_emb, )\n",
        "df_train[\"Attack\"] = lab_enc.inverse_transform(\n",
        "        train_g.edata['Attack'].detach().cpu().numpy())\n",
        "df_train[\"Label\"] = train_g.edata['Label'].detach().cpu().numpy()\n",
        "\n",
        "df_test = pd.DataFrame(testing_emb, )\n",
        "df_test[\"Attack\"] = lab_enc.inverse_transform(\n",
        "        test_g.edata['Attack'].detach().cpu().numpy())\n",
        "df_test[\"Label\"] = test_g.edata['Label'].detach().cpu().numpy()"
      ]
    },
    {
      "cell_type": "code",
      "execution_count": 59,
      "metadata": {
        "colab": {
          "base_uri": "https://localhost:8080/",
          "height": 488
        },
        "id": "B8p79H9dat5T",
        "outputId": "0d6e82d8-5d02-49eb-a16f-d44e52ea3dff"
      },
      "outputs": [
        {
          "data": {
            "text/html": [
              "<div>\n",
              "<style scoped>\n",
              "    .dataframe tbody tr th:only-of-type {\n",
              "        vertical-align: middle;\n",
              "    }\n",
              "\n",
              "    .dataframe tbody tr th {\n",
              "        vertical-align: top;\n",
              "    }\n",
              "\n",
              "    .dataframe thead th {\n",
              "        text-align: right;\n",
              "    }\n",
              "</style>\n",
              "<table border=\"1\" class=\"dataframe\">\n",
              "  <thead>\n",
              "    <tr style=\"text-align: right;\">\n",
              "      <th></th>\n",
              "      <th>0</th>\n",
              "      <th>1</th>\n",
              "      <th>2</th>\n",
              "      <th>3</th>\n",
              "      <th>4</th>\n",
              "      <th>5</th>\n",
              "      <th>6</th>\n",
              "      <th>7</th>\n",
              "      <th>8</th>\n",
              "      <th>9</th>\n",
              "      <th>...</th>\n",
              "      <th>248</th>\n",
              "      <th>249</th>\n",
              "      <th>250</th>\n",
              "      <th>251</th>\n",
              "      <th>252</th>\n",
              "      <th>253</th>\n",
              "      <th>254</th>\n",
              "      <th>255</th>\n",
              "      <th>Attack</th>\n",
              "      <th>Label</th>\n",
              "    </tr>\n",
              "  </thead>\n",
              "  <tbody>\n",
              "    <tr>\n",
              "      <th>0</th>\n",
              "      <td>0.391535</td>\n",
              "      <td>-1.050940</td>\n",
              "      <td>0.642646</td>\n",
              "      <td>0.841976</td>\n",
              "      <td>0.665297</td>\n",
              "      <td>0.174362</td>\n",
              "      <td>0.000600</td>\n",
              "      <td>0.044048</td>\n",
              "      <td>-0.864206</td>\n",
              "      <td>-0.593591</td>\n",
              "      <td>...</td>\n",
              "      <td>-0.061245</td>\n",
              "      <td>-1.190410</td>\n",
              "      <td>-0.293939</td>\n",
              "      <td>-0.354126</td>\n",
              "      <td>0.582553</td>\n",
              "      <td>2.666381</td>\n",
              "      <td>-0.440458</td>\n",
              "      <td>0.234124</td>\n",
              "      <td>lfi</td>\n",
              "      <td>1</td>\n",
              "    </tr>\n",
              "    <tr>\n",
              "      <th>1</th>\n",
              "      <td>0.229704</td>\n",
              "      <td>-0.997782</td>\n",
              "      <td>0.832264</td>\n",
              "      <td>0.753838</td>\n",
              "      <td>0.337912</td>\n",
              "      <td>0.050973</td>\n",
              "      <td>-0.074340</td>\n",
              "      <td>0.230677</td>\n",
              "      <td>-0.911263</td>\n",
              "      <td>-0.680979</td>\n",
              "      <td>...</td>\n",
              "      <td>-0.338866</td>\n",
              "      <td>-1.168872</td>\n",
              "      <td>-0.389057</td>\n",
              "      <td>-0.319773</td>\n",
              "      <td>0.776764</td>\n",
              "      <td>2.966134</td>\n",
              "      <td>-0.405200</td>\n",
              "      <td>0.467887</td>\n",
              "      <td>lfi</td>\n",
              "      <td>1</td>\n",
              "    </tr>\n",
              "    <tr>\n",
              "      <th>2</th>\n",
              "      <td>0.229704</td>\n",
              "      <td>-0.997782</td>\n",
              "      <td>0.832264</td>\n",
              "      <td>0.753838</td>\n",
              "      <td>0.337912</td>\n",
              "      <td>0.050973</td>\n",
              "      <td>-0.074340</td>\n",
              "      <td>0.230677</td>\n",
              "      <td>-0.911263</td>\n",
              "      <td>-0.680979</td>\n",
              "      <td>...</td>\n",
              "      <td>-0.338866</td>\n",
              "      <td>-1.168872</td>\n",
              "      <td>-0.389057</td>\n",
              "      <td>-0.319773</td>\n",
              "      <td>0.776764</td>\n",
              "      <td>2.966134</td>\n",
              "      <td>-0.405200</td>\n",
              "      <td>0.467887</td>\n",
              "      <td>lfi</td>\n",
              "      <td>1</td>\n",
              "    </tr>\n",
              "    <tr>\n",
              "      <th>3</th>\n",
              "      <td>0.229704</td>\n",
              "      <td>-0.997782</td>\n",
              "      <td>0.832264</td>\n",
              "      <td>0.753838</td>\n",
              "      <td>0.337912</td>\n",
              "      <td>0.050973</td>\n",
              "      <td>-0.074340</td>\n",
              "      <td>0.230677</td>\n",
              "      <td>-0.911263</td>\n",
              "      <td>-0.680979</td>\n",
              "      <td>...</td>\n",
              "      <td>-0.338866</td>\n",
              "      <td>-1.168872</td>\n",
              "      <td>-0.389057</td>\n",
              "      <td>-0.319773</td>\n",
              "      <td>0.776764</td>\n",
              "      <td>2.966134</td>\n",
              "      <td>-0.405200</td>\n",
              "      <td>0.467887</td>\n",
              "      <td>lfi</td>\n",
              "      <td>1</td>\n",
              "    </tr>\n",
              "    <tr>\n",
              "      <th>4</th>\n",
              "      <td>0.229704</td>\n",
              "      <td>-0.997782</td>\n",
              "      <td>0.832264</td>\n",
              "      <td>0.753838</td>\n",
              "      <td>0.337912</td>\n",
              "      <td>0.050973</td>\n",
              "      <td>-0.074340</td>\n",
              "      <td>0.230677</td>\n",
              "      <td>-0.911263</td>\n",
              "      <td>-0.680979</td>\n",
              "      <td>...</td>\n",
              "      <td>-0.338866</td>\n",
              "      <td>-1.168872</td>\n",
              "      <td>-0.389057</td>\n",
              "      <td>-0.319773</td>\n",
              "      <td>0.776764</td>\n",
              "      <td>2.966134</td>\n",
              "      <td>-0.405200</td>\n",
              "      <td>0.467887</td>\n",
              "      <td>lfi</td>\n",
              "      <td>1</td>\n",
              "    </tr>\n",
              "    <tr>\n",
              "      <th>...</th>\n",
              "      <td>...</td>\n",
              "      <td>...</td>\n",
              "      <td>...</td>\n",
              "      <td>...</td>\n",
              "      <td>...</td>\n",
              "      <td>...</td>\n",
              "      <td>...</td>\n",
              "      <td>...</td>\n",
              "      <td>...</td>\n",
              "      <td>...</td>\n",
              "      <td>...</td>\n",
              "      <td>...</td>\n",
              "      <td>...</td>\n",
              "      <td>...</td>\n",
              "      <td>...</td>\n",
              "      <td>...</td>\n",
              "      <td>...</td>\n",
              "      <td>...</td>\n",
              "      <td>...</td>\n",
              "      <td>...</td>\n",
              "      <td>...</td>\n",
              "    </tr>\n",
              "    <tr>\n",
              "      <th>239325</th>\n",
              "      <td>0.147891</td>\n",
              "      <td>-0.194757</td>\n",
              "      <td>0.070401</td>\n",
              "      <td>-0.296726</td>\n",
              "      <td>-0.112638</td>\n",
              "      <td>0.109214</td>\n",
              "      <td>-0.012451</td>\n",
              "      <td>0.243264</td>\n",
              "      <td>0.055302</td>\n",
              "      <td>-0.173221</td>\n",
              "      <td>...</td>\n",
              "      <td>-0.539052</td>\n",
              "      <td>-0.076908</td>\n",
              "      <td>-0.102183</td>\n",
              "      <td>-0.075548</td>\n",
              "      <td>0.036759</td>\n",
              "      <td>0.527297</td>\n",
              "      <td>0.061740</td>\n",
              "      <td>-0.100416</td>\n",
              "      <td>directory_scan</td>\n",
              "      <td>1</td>\n",
              "    </tr>\n",
              "    <tr>\n",
              "      <th>239326</th>\n",
              "      <td>0.147891</td>\n",
              "      <td>-0.194757</td>\n",
              "      <td>0.070401</td>\n",
              "      <td>-0.296726</td>\n",
              "      <td>-0.112638</td>\n",
              "      <td>0.109214</td>\n",
              "      <td>-0.012451</td>\n",
              "      <td>0.243264</td>\n",
              "      <td>0.055302</td>\n",
              "      <td>-0.173221</td>\n",
              "      <td>...</td>\n",
              "      <td>-0.539052</td>\n",
              "      <td>-0.076908</td>\n",
              "      <td>-0.102183</td>\n",
              "      <td>-0.075548</td>\n",
              "      <td>0.036759</td>\n",
              "      <td>0.527297</td>\n",
              "      <td>0.061740</td>\n",
              "      <td>-0.100416</td>\n",
              "      <td>directory_scan</td>\n",
              "      <td>1</td>\n",
              "    </tr>\n",
              "    <tr>\n",
              "      <th>239327</th>\n",
              "      <td>0.147891</td>\n",
              "      <td>-0.194757</td>\n",
              "      <td>0.070401</td>\n",
              "      <td>-0.296726</td>\n",
              "      <td>-0.112638</td>\n",
              "      <td>0.109214</td>\n",
              "      <td>-0.012451</td>\n",
              "      <td>0.243264</td>\n",
              "      <td>0.055302</td>\n",
              "      <td>-0.173221</td>\n",
              "      <td>...</td>\n",
              "      <td>-0.539052</td>\n",
              "      <td>-0.076908</td>\n",
              "      <td>-0.102183</td>\n",
              "      <td>-0.075548</td>\n",
              "      <td>0.036759</td>\n",
              "      <td>0.527297</td>\n",
              "      <td>0.061740</td>\n",
              "      <td>-0.100416</td>\n",
              "      <td>directory_scan</td>\n",
              "      <td>1</td>\n",
              "    </tr>\n",
              "    <tr>\n",
              "      <th>239328</th>\n",
              "      <td>0.147891</td>\n",
              "      <td>-0.194757</td>\n",
              "      <td>0.070401</td>\n",
              "      <td>-0.296726</td>\n",
              "      <td>-0.112638</td>\n",
              "      <td>0.109214</td>\n",
              "      <td>-0.012451</td>\n",
              "      <td>0.243264</td>\n",
              "      <td>0.055302</td>\n",
              "      <td>-0.173221</td>\n",
              "      <td>...</td>\n",
              "      <td>-0.539052</td>\n",
              "      <td>-0.076908</td>\n",
              "      <td>-0.102183</td>\n",
              "      <td>-0.075548</td>\n",
              "      <td>0.036759</td>\n",
              "      <td>0.527297</td>\n",
              "      <td>0.061740</td>\n",
              "      <td>-0.100416</td>\n",
              "      <td>directory_scan</td>\n",
              "      <td>1</td>\n",
              "    </tr>\n",
              "    <tr>\n",
              "      <th>239329</th>\n",
              "      <td>0.147891</td>\n",
              "      <td>-0.194757</td>\n",
              "      <td>0.070401</td>\n",
              "      <td>-0.296726</td>\n",
              "      <td>-0.112638</td>\n",
              "      <td>0.109214</td>\n",
              "      <td>-0.012451</td>\n",
              "      <td>0.243264</td>\n",
              "      <td>0.055302</td>\n",
              "      <td>-0.173221</td>\n",
              "      <td>...</td>\n",
              "      <td>-0.539052</td>\n",
              "      <td>-0.076908</td>\n",
              "      <td>-0.102183</td>\n",
              "      <td>-0.075548</td>\n",
              "      <td>0.036759</td>\n",
              "      <td>0.527297</td>\n",
              "      <td>0.061740</td>\n",
              "      <td>-0.100416</td>\n",
              "      <td>directory_scan</td>\n",
              "      <td>1</td>\n",
              "    </tr>\n",
              "  </tbody>\n",
              "</table>\n",
              "<p>239330 rows × 258 columns</p>\n",
              "</div>"
            ],
            "text/plain": [
              "               0         1         2         3         4         5         6  \\\n",
              "0       0.391535 -1.050940  0.642646  0.841976  0.665297  0.174362  0.000600   \n",
              "1       0.229704 -0.997782  0.832264  0.753838  0.337912  0.050973 -0.074340   \n",
              "2       0.229704 -0.997782  0.832264  0.753838  0.337912  0.050973 -0.074340   \n",
              "3       0.229704 -0.997782  0.832264  0.753838  0.337912  0.050973 -0.074340   \n",
              "4       0.229704 -0.997782  0.832264  0.753838  0.337912  0.050973 -0.074340   \n",
              "...          ...       ...       ...       ...       ...       ...       ...   \n",
              "239325  0.147891 -0.194757  0.070401 -0.296726 -0.112638  0.109214 -0.012451   \n",
              "239326  0.147891 -0.194757  0.070401 -0.296726 -0.112638  0.109214 -0.012451   \n",
              "239327  0.147891 -0.194757  0.070401 -0.296726 -0.112638  0.109214 -0.012451   \n",
              "239328  0.147891 -0.194757  0.070401 -0.296726 -0.112638  0.109214 -0.012451   \n",
              "239329  0.147891 -0.194757  0.070401 -0.296726 -0.112638  0.109214 -0.012451   \n",
              "\n",
              "               7         8         9  ...       248       249       250  \\\n",
              "0       0.044048 -0.864206 -0.593591  ... -0.061245 -1.190410 -0.293939   \n",
              "1       0.230677 -0.911263 -0.680979  ... -0.338866 -1.168872 -0.389057   \n",
              "2       0.230677 -0.911263 -0.680979  ... -0.338866 -1.168872 -0.389057   \n",
              "3       0.230677 -0.911263 -0.680979  ... -0.338866 -1.168872 -0.389057   \n",
              "4       0.230677 -0.911263 -0.680979  ... -0.338866 -1.168872 -0.389057   \n",
              "...          ...       ...       ...  ...       ...       ...       ...   \n",
              "239325  0.243264  0.055302 -0.173221  ... -0.539052 -0.076908 -0.102183   \n",
              "239326  0.243264  0.055302 -0.173221  ... -0.539052 -0.076908 -0.102183   \n",
              "239327  0.243264  0.055302 -0.173221  ... -0.539052 -0.076908 -0.102183   \n",
              "239328  0.243264  0.055302 -0.173221  ... -0.539052 -0.076908 -0.102183   \n",
              "239329  0.243264  0.055302 -0.173221  ... -0.539052 -0.076908 -0.102183   \n",
              "\n",
              "             251       252       253       254       255          Attack  \\\n",
              "0      -0.354126  0.582553  2.666381 -0.440458  0.234124             lfi   \n",
              "1      -0.319773  0.776764  2.966134 -0.405200  0.467887             lfi   \n",
              "2      -0.319773  0.776764  2.966134 -0.405200  0.467887             lfi   \n",
              "3      -0.319773  0.776764  2.966134 -0.405200  0.467887             lfi   \n",
              "4      -0.319773  0.776764  2.966134 -0.405200  0.467887             lfi   \n",
              "...          ...       ...       ...       ...       ...             ...   \n",
              "239325 -0.075548  0.036759  0.527297  0.061740 -0.100416  directory_scan   \n",
              "239326 -0.075548  0.036759  0.527297  0.061740 -0.100416  directory_scan   \n",
              "239327 -0.075548  0.036759  0.527297  0.061740 -0.100416  directory_scan   \n",
              "239328 -0.075548  0.036759  0.527297  0.061740 -0.100416  directory_scan   \n",
              "239329 -0.075548  0.036759  0.527297  0.061740 -0.100416  directory_scan   \n",
              "\n",
              "        Label  \n",
              "0           1  \n",
              "1           1  \n",
              "2           1  \n",
              "3           1  \n",
              "4           1  \n",
              "...       ...  \n",
              "239325      1  \n",
              "239326      1  \n",
              "239327      1  \n",
              "239328      1  \n",
              "239329      1  \n",
              "\n",
              "[239330 rows x 258 columns]"
            ]
          },
          "execution_count": 59,
          "metadata": {},
          "output_type": "execute_result"
        }
      ],
      "source": [
        "df_train"
      ]
    }
  ],
  "metadata": {
    "accelerator": "GPU",
    "colab": {
      "provenance": []
    },
    "kernelspec": {
      "display_name": "Python 3",
      "language": "python",
      "name": "python3"
    },
    "language_info": {
      "codemirror_mode": {
        "name": "ipython",
        "version": 3
      },
      "file_extension": ".py",
      "mimetype": "text/x-python",
      "name": "python",
      "nbconvert_exporter": "python",
      "pygments_lexer": "ipython3",
      "version": "3.11.7"
    }
  },
  "nbformat": 4,
  "nbformat_minor": 0
}
