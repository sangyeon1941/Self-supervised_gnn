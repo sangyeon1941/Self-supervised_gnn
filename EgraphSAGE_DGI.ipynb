{
  "cells": [
    {
      "cell_type": "code",
      "execution_count": 76,
      "metadata": {
        "id": "Hjc3iIihKLn-"
      },
      "outputs": [],
      "source": [
        "import pandas as pd\n",
        "import numpy as np\n",
        "import torch\n",
        "from sklearn import preprocessing\n",
        "from dgl.data import DGLDataset\n",
        "import dgl\n",
        "import time\n",
        "import networkx as nx\n",
        "import category_encoders as ce\n",
        "import torch.nn as nn\n",
        "import torch.nn.functional as F\n",
        "import dgl.function as fn\n",
        "import torch\n",
        "import tqdm\n",
        "import math\n",
        "\n",
        "from typing import *\n",
        "from sklearn.preprocessing import StandardScaler, Normalizer\n",
        "import socket\n",
        "import struct\n",
        "import random\n",
        "from sklearn.model_selection import train_test_split"
      ]
    },
    {
      "cell_type": "code",
      "execution_count": 78,
      "metadata": {},
      "outputs": [],
      "source": [
        "train_name = \"30s_split_Train_data.csv\"\n",
        "train_data = pd.read_csv(train_name)\n",
        "\n",
        "test_name = \"30s_split_Test_data.csv\"\n",
        "test_data = pd.read_csv(test_name)"
      ]
    },
    {
      "cell_type": "code",
      "execution_count": 80,
      "metadata": {
        "colab": {
          "base_uri": "https://localhost:8080/",
          "height": 488
        },
        "id": "fqly1y-LMwYS",
        "outputId": "18cca6c8-8a93-46c4-ffa1-9d21ebe843b0"
      },
      "outputs": [
        {
          "data": {
            "text/plain": [
              "label\n",
              "directory_scan        15111\n",
              "normal                15081\n",
              "csrf                  14338\n",
              "reflected_xss         13910\n",
              "brute_force           11958\n",
              "open_redirect         11654\n",
              "sql_injection         10924\n",
              "lfi                    9100\n",
              "subdomain_takeover     7525\n",
              "command_injection      5728\n",
              "ssti                   4336\n",
              "Name: count, dtype: int64"
            ]
          },
          "execution_count": 80,
          "metadata": {},
          "output_type": "execute_result"
        }
      ],
      "source": [
        "train_data.label.value_counts()"
      ]
    },
    {
      "cell_type": "code",
      "execution_count": 81,
      "metadata": {},
      "outputs": [
        {
          "data": {
            "text/plain": [
              "label\n",
              "normal                6464\n",
              "directory_scan        6440\n",
              "csrf                  6305\n",
              "reflected_xss         5931\n",
              "brute_force           5042\n",
              "open_redirect         5002\n",
              "sql_injection         4701\n",
              "lfi                   3891\n",
              "subdomain_takeover    3233\n",
              "command_injection     2522\n",
              "ssti                  1755\n",
              "Name: count, dtype: int64"
            ]
          },
          "execution_count": 81,
          "metadata": {},
          "output_type": "execute_result"
        }
      ],
      "source": [
        "test_data.label.value_counts()"
      ]
    },
    {
      "cell_type": "code",
      "execution_count": 84,
      "metadata": {},
      "outputs": [],
      "source": [
        "train_data.drop(columns=[\" 6:Start Time\", ' 3:Client Port', ' 4:Server Port'], inplace=True)"
      ]
    },
    {
      "cell_type": "code",
      "execution_count": 85,
      "metadata": {},
      "outputs": [],
      "source": [
        "test_data.drop(columns=[\" 6:Start Time\", ' 3:Client Port', ' 4:Server Port'], inplace=True)"
      ]
    },
    {
      "cell_type": "code",
      "execution_count": 88,
      "metadata": {
        "id": "AlPa58fVN7gB"
      },
      "outputs": [],
      "source": [
        "# train_data = train_data.groupby(by='label').sample(frac=0.1, random_state=13)"
      ]
    },
    {
      "cell_type": "code",
      "execution_count": 90,
      "metadata": {},
      "outputs": [],
      "source": [
        "# test_data = test_data.groupby(by='label').sample(frac=0.1, random_state=13)"
      ]
    },
    {
      "cell_type": "code",
      "execution_count": 93,
      "metadata": {},
      "outputs": [],
      "source": [
        "X_train = train_data.drop(columns=[\"label\"])\n",
        "y_train = train_data[[\"label\"]]\n",
        "\n",
        "X_test = test_data.drop(columns=[\"label\"])\n",
        "y_test = test_data[[\"label\"]]"
      ]
    },
    {
      "cell_type": "code",
      "execution_count": 96,
      "metadata": {
        "id": "ibyOfV-8PouK"
      },
      "outputs": [],
      "source": [
        "X_train.replace([np.inf, -np.inf], np.nan, inplace=True)\n",
        "X_test.replace([np.inf, -np.inf], np.nan, inplace=True)\n",
        "X_train.fillna(0, inplace=True)\n",
        "X_test.fillna(0, inplace=True)"
      ]
    },
    {
      "cell_type": "code",
      "execution_count": 97,
      "metadata": {
        "id": "asDnsSIWPee0"
      },
      "outputs": [],
      "source": [
        "scaler = Normalizer()\n",
        "cols_to_norm = list(set(list(X_train.iloc[:, 2:].columns))) # Ignore first two as the represents IP addresses\n",
        "scaler.fit(X_train[cols_to_norm])\n",
        "\n",
        "# Transform on training set\n",
        "X_train[cols_to_norm] = scaler.transform(X_train[cols_to_norm])\n",
        "X_train['h'] = X_train.iloc[:, 2:].values.tolist()\n",
        "\n",
        "# Transform on testing set\n",
        "X_test[cols_to_norm] = scaler.transform(X_test[cols_to_norm])\n",
        "X_test['h'] = X_test.iloc[:, 2:].values.tolist()\n",
        "\n",
        "train = pd.concat([X_train, y_train], axis=1)\n",
        "test = pd.concat([X_test, y_test], axis=1)"
      ]
    },
    {
      "cell_type": "code",
      "execution_count": 99,
      "metadata": {
        "id": "d_tLtK4WPtrF"
      },
      "outputs": [],
      "source": [
        "data = pd.concat([train, test])\n",
        "\n",
        "lab_enc = preprocessing.LabelEncoder()\n",
        "lab_enc.fit(data[\"label\"])\n",
        "\n",
        "label_mapping = pd.DataFrame({\n",
        "    'Original_Label': lab_enc.classes_,\n",
        "    'Encoded_Label': lab_enc.transform(lab_enc.classes_)\n",
        "})\n",
        "\n",
        "# Transform on training set\n",
        "train[\"label\"] = lab_enc.transform(train[\"label\"])\n",
        "\n",
        "# Transform on testing set\n",
        "test[\"label\"] = lab_enc.transform(test[\"label\"])"
      ]
    },
    {
      "cell_type": "code",
      "execution_count": 100,
      "metadata": {},
      "outputs": [
        {
          "data": {
            "text/html": [
              "<div>\n",
              "<style scoped>\n",
              "    .dataframe tbody tr th:only-of-type {\n",
              "        vertical-align: middle;\n",
              "    }\n",
              "\n",
              "    .dataframe tbody tr th {\n",
              "        vertical-align: top;\n",
              "    }\n",
              "\n",
              "    .dataframe thead th {\n",
              "        text-align: right;\n",
              "    }\n",
              "</style>\n",
              "<table border=\"1\" class=\"dataframe\">\n",
              "  <thead>\n",
              "    <tr style=\"text-align: right;\">\n",
              "      <th></th>\n",
              "      <th>Original_Label</th>\n",
              "      <th>Encoded_Label</th>\n",
              "    </tr>\n",
              "  </thead>\n",
              "  <tbody>\n",
              "    <tr>\n",
              "      <th>0</th>\n",
              "      <td>brute_force</td>\n",
              "      <td>0</td>\n",
              "    </tr>\n",
              "    <tr>\n",
              "      <th>1</th>\n",
              "      <td>command_injection</td>\n",
              "      <td>1</td>\n",
              "    </tr>\n",
              "    <tr>\n",
              "      <th>2</th>\n",
              "      <td>csrf</td>\n",
              "      <td>2</td>\n",
              "    </tr>\n",
              "    <tr>\n",
              "      <th>3</th>\n",
              "      <td>directory_scan</td>\n",
              "      <td>3</td>\n",
              "    </tr>\n",
              "    <tr>\n",
              "      <th>4</th>\n",
              "      <td>lfi</td>\n",
              "      <td>4</td>\n",
              "    </tr>\n",
              "    <tr>\n",
              "      <th>5</th>\n",
              "      <td>normal</td>\n",
              "      <td>5</td>\n",
              "    </tr>\n",
              "    <tr>\n",
              "      <th>6</th>\n",
              "      <td>open_redirect</td>\n",
              "      <td>6</td>\n",
              "    </tr>\n",
              "    <tr>\n",
              "      <th>7</th>\n",
              "      <td>reflected_xss</td>\n",
              "      <td>7</td>\n",
              "    </tr>\n",
              "    <tr>\n",
              "      <th>8</th>\n",
              "      <td>sql_injection</td>\n",
              "      <td>8</td>\n",
              "    </tr>\n",
              "    <tr>\n",
              "      <th>9</th>\n",
              "      <td>ssti</td>\n",
              "      <td>9</td>\n",
              "    </tr>\n",
              "    <tr>\n",
              "      <th>10</th>\n",
              "      <td>subdomain_takeover</td>\n",
              "      <td>10</td>\n",
              "    </tr>\n",
              "  </tbody>\n",
              "</table>\n",
              "</div>"
            ],
            "text/plain": [
              "        Original_Label  Encoded_Label\n",
              "0          brute_force              0\n",
              "1    command_injection              1\n",
              "2                 csrf              2\n",
              "3       directory_scan              3\n",
              "4                  lfi              4\n",
              "5               normal              5\n",
              "6        open_redirect              6\n",
              "7        reflected_xss              7\n",
              "8        sql_injection              8\n",
              "9                 ssti              9\n",
              "10  subdomain_takeover             10"
            ]
          },
          "execution_count": 100,
          "metadata": {},
          "output_type": "execute_result"
        }
      ],
      "source": [
        "label_mapping"
      ]
    },
    {
      "cell_type": "code",
      "execution_count": 154,
      "metadata": {
        "id": "8yaicjecP1fZ"
      },
      "outputs": [],
      "source": [
        "# Training graph\n",
        "\n",
        "train_g = nx.from_pandas_edgelist(train, \"#1:Client IP\", \" 2:Server IP\",\n",
        "            [\"h\", \"label\"], create_using=nx.MultiGraph())\n",
        "\n",
        "# traub_node = sorted(train_g.nodes())\n",
        "\n",
        "# 모든 노드에 'normal' 레이블을 기본값으로 설정\n",
        "for node in train_g.nodes():\n",
        "    train_g.nodes[node]['label'] = 5\n",
        "\n",
        "# 엣지 레이블에 따라 노드 레이블 업데이트\n",
        "for u, v, data in train_g.edges(data=True):\n",
        "    new_label = data['label']\n",
        "    if new_label != 5:\n",
        "        train_g.nodes[u]['label'] = new_label\n",
        "        \n",
        "train_g_nodeName = list(sorted(train_g.nodes()))\n",
        "\n",
        "train_g = train_g.to_directed()\n",
        "train_g = dgl.from_networkx(train_g, edge_attrs=['h', 'label'], node_attrs=['label'])\n",
        "nfeat_weight = torch.ones([train_g.number_of_nodes(), train_g.edata['h'].shape[1]])\n",
        "train_g.ndata['h'] = nfeat_weight\n",
        "\n",
        "\n",
        "# Testing graph\n",
        "test_g = nx.from_pandas_edgelist(test, \"#1:Client IP\", \" 2:Server IP\",\n",
        "            [\"h\", \"label\"], create_using=nx.MultiGraph())\n",
        "\n",
        "# test_node = sorted(test_g.nodes())\n",
        "\n",
        "# 모든 노드에 'normal' 레이블을 기본값으로 설정\n",
        "for node in test_g.nodes():\n",
        "    test_g.nodes[node]['label'] = 5\n",
        "\n",
        "# 엣지 레이블에 따라 노드 레이블 업데이트\n",
        "for u, v, data in test_g.edges(data=True):\n",
        "    new_label = data['label']\n",
        "    if new_label != 5:\n",
        "        test_g.nodes[u]['label'] = new_label\n",
        "\n",
        "test_g_nodeName = list(sorted(test_g.nodes()))\n",
        "\n",
        "test_g = test_g.to_directed()\n",
        "test_g = dgl.from_networkx(test_g, edge_attrs=['h', 'label'], node_attrs=['label'])\n",
        "nfeat_weight = torch.ones([test_g.number_of_nodes(), test_g.edata['h'].shape[1]])\n",
        "test_g.ndata['h'] = nfeat_weight\n"
      ]
    },
    {
      "cell_type": "code",
      "execution_count": 158,
      "metadata": {
        "id": "PUV6DgJ9QRaP"
      },
      "outputs": [],
      "source": [
        "import torch.nn as nn\n",
        "import torch.nn.functional as F\n",
        "import dgl.function as fn\n",
        "import tqdm\n",
        "import gc\n",
        "\n",
        "class SAGELayer(nn.Module):\n",
        "    def __init__(self, ndim_in, edims, ndim_out, activation):\n",
        "      super(SAGELayer, self).__init__()\n",
        "      self.W_apply = nn.Linear(ndim_in + edims , ndim_out)\n",
        "      self.activation = F.relu\n",
        "      self.W_edge = nn.Linear(128 * 2, 256)\n",
        "      self.reset_parameters()\n",
        "\n",
        "    def reset_parameters(self):\n",
        "      gain = nn.init.calculate_gain('relu')\n",
        "      nn.init.xavier_uniform_(self.W_apply.weight, gain=gain)\n",
        "\n",
        "    def message_func(self, edges):\n",
        "      return {'m':  edges.data['h']}\n",
        "\n",
        "    def forward(self, g_dgl, nfeats, efeats):\n",
        "      with g_dgl.local_scope():\n",
        "        g = g_dgl\n",
        "        g.ndata['h'] = nfeats\n",
        "        g.edata['h'] = efeats\n",
        "        g.update_all(self.message_func, fn.mean('m', 'h_neigh'))\n",
        "        g.ndata['h'] = F.relu(self.W_apply(torch.cat([g.ndata['h'], g.ndata['h_neigh']], 2)))\n",
        "\n",
        "        # Compute edge embeddings\n",
        "        u, v = g.edges()\n",
        "        edge = self.W_edge(torch.cat((g.srcdata['h'][u], g.dstdata['h'][v]), 2))\n",
        "        return g.ndata['h'], edge"
      ]
    },
    {
      "cell_type": "code",
      "execution_count": 159,
      "metadata": {
        "id": "_xo-3K4QRGqc"
      },
      "outputs": [],
      "source": [
        "class SAGE(nn.Module):\n",
        "    def __init__(self, ndim_in, ndim_out, edim,  activation):\n",
        "      super(SAGE, self).__init__()\n",
        "      self.layers = nn.ModuleList()\n",
        "      self.layers.append(SAGELayer(ndim_in, edim, 128, F.relu))\n",
        "\n",
        "    def forward(self, g, nfeats, efeats, corrupt=False):\n",
        "      if corrupt:\n",
        "        #e_perm = torch.randperm(g.number_of_edges())\n",
        "        n_perm = torch.randperm(g.number_of_nodes())\n",
        "        perm = np.random.permutation(g.number_of_nodes())\n",
        "        nfeats.values = perm\n",
        "        \n",
        "        #efeats = efeats[e_perm]\n",
        "        nfeats = nfeats[n_perm]\n",
        "\n",
        "      for i, layer in enumerate(self.layers):\n",
        "        #nfeats = layer(g, nfeats, efeats)\n",
        "        nfeats, e_feats = layer(g, nfeats, efeats)\n",
        "      #return nfeats.sum(1)\n",
        "      return nfeats.sum(1), e_feats.sum(1)"
      ]
    },
    {
      "cell_type": "code",
      "execution_count": 160,
      "metadata": {
        "id": "6uuxRtLuRJQL"
      },
      "outputs": [],
      "source": [
        "class Discriminator(nn.Module):\n",
        "    def __init__(self, n_hidden):\n",
        "      super(Discriminator, self).__init__()\n",
        "      self.weight = nn.Parameter(torch.Tensor(n_hidden, n_hidden))\n",
        "      self.reset_parameters()\n",
        "\n",
        "    def uniform(self, size, tensor):\n",
        "      bound = 1.0 / math.sqrt(size)\n",
        "      if tensor is not None:\n",
        "        tensor.data.uniform_(-bound, bound)\n",
        "\n",
        "    def reset_parameters(self):\n",
        "      size = self.weight.size(0)\n",
        "      self.uniform(size, self.weight)\n",
        "\n",
        "    def forward(self, features, summary):      \n",
        "      features = torch.matmul(features, torch.matmul(self.weight, summary))\n",
        "            \n",
        "      return features"
      ]
    },
    {
      "cell_type": "code",
      "execution_count": 161,
      "metadata": {
        "id": "ZPbVjlCyRUco"
      },
      "outputs": [],
      "source": [
        "class DGI(nn.Module):\n",
        "    def __init__(self, ndim_in, ndim_out, edim, activation):\n",
        "      super(DGI, self).__init__()\n",
        "      self.encoder = SAGE(ndim_in, ndim_out, edim,  F.relu)\n",
        "      self.discriminator = Discriminator(128)\n",
        "      #self.discriminator = Discriminator(256)\n",
        "      self.loss = nn.BCEWithLogitsLoss()\n",
        "\n",
        "    def forward(self, g, n_features, e_features):\n",
        "      positive = self.encoder(g, n_features, e_features, corrupt=False)\n",
        "      negative = self.encoder(g, n_features, e_features, corrupt=True)\n",
        "      self.loss = nn.BCEWithLogitsLoss()\n",
        "\n",
        "    def forward(self, g, n_features, e_features):\n",
        "      positive = self.encoder(g, n_features, e_features, corrupt=False)\n",
        "      negative = self.encoder(g, n_features, e_features, corrupt=True)\n",
        "\n",
        "      # positive = positive[1]\n",
        "      # negative = negative[1]\n",
        "      positive = positive[0]\n",
        "      negative = negative[0]\n",
        "\n",
        "      summary = torch.sigmoid(positive.mean(dim=0))\n",
        "\n",
        "      positive = self.discriminator(positive, summary)\n",
        "      negative = self.discriminator(negative, summary)\n",
        "\n",
        "      l1 = self.loss(positive, torch.ones_like(positive))\n",
        "      l2 = self.loss(negative, torch.zeros_like(negative))\n",
        "\n",
        "      return l1 + l2"
      ]
    },
    {
      "cell_type": "code",
      "execution_count": 162,
      "metadata": {
        "id": "sKnfpWFMR19u"
      },
      "outputs": [],
      "source": [
        "ndim_in = train_g.ndata['h'].shape[1]\n",
        "hidden_features = 128\n",
        "ndim_out = 128\n",
        "num_layers = 1\n",
        "edim = train_g.edata['h'].shape[1]\n",
        "learning_rate = 1e-3\n",
        "epochs = 4000"
      ]
    },
    {
      "cell_type": "code",
      "execution_count": 163,
      "metadata": {
        "id": "aSl_9qY8SbA0"
      },
      "outputs": [],
      "source": [
        "dgi = DGI(ndim_in,\n",
        "    ndim_out,\n",
        "    edim,\n",
        "    F.relu)\n",
        "\n",
        "dgi_optimizer = torch.optim.Adam(dgi.parameters(),\n",
        "                lr=1e-3,\n",
        "                weight_decay=0.)"
      ]
    },
    {
      "cell_type": "code",
      "execution_count": 164,
      "metadata": {
        "id": "9K6_cOiWSdJA"
      },
      "outputs": [],
      "source": [
        "# Format node and edge features for E-GraphSAGE\n",
        "train_g.ndata['h'] = torch.reshape(train_g.ndata['h'],\n",
        "                                   (train_g.ndata['h'].shape[0], 1,\n",
        "                                    train_g.ndata['h'].shape[1]))\n",
        "\n",
        "train_g.edata['h'] = torch.reshape(train_g.edata['h'],\n",
        "                                   (train_g.edata['h'].shape[0], 1,\n",
        "                                    train_g.edata['h'].shape[1]))"
      ]
    },
    {
      "cell_type": "code",
      "execution_count": 165,
      "metadata": {
        "id": "O44auIyWSexg"
      },
      "outputs": [],
      "source": [
        "# Convert to GPU\n",
        "train_g = train_g"
      ]
    },
    {
      "cell_type": "code",
      "execution_count": null,
      "metadata": {
        "id": "gZtafIdxSheN"
      },
      "outputs": [],
      "source": [
        "# cnt_wait = 0\n",
        "# best = 1e9\n",
        "# best_t = 0\n",
        "# dur = []\n",
        "# node_features = train_g.ndata['h']\n",
        "# edge_features = train_g.edata['h']\n",
        "\n",
        "# for epoch in range(epochs):\n",
        "#     dgi.train()\n",
        "#     if epoch >= 3:\n",
        "#         t0 = time.time()\n",
        "\n",
        "#     dgi_optimizer.zero_grad()\n",
        "#     loss = dgi(train_g, node_features, edge_features)\n",
        "#     loss.backward()\n",
        "#     dgi_optimizer.step()\n",
        "\n",
        "#     if loss < best:\n",
        "#         best = loss\n",
        "#         best_t = epoch\n",
        "#         cnt_wait = 0\n",
        "#         torch.save(dgi.state_dict(), 'best_dgi.pkl')\n",
        "#     else:\n",
        "#         cnt_wait += 1\n",
        "\n",
        "#   # if cnt_wait == patience:\n",
        "#   #     print('Early stopping!')\n",
        "#   #     break\n",
        "\n",
        "#     if epoch >= 3:\n",
        "#         dur.append(time.time() - t0)\n",
        "\n",
        "#     if epoch % 50 == 0:\n",
        "\n",
        "#         print(\"Epoch {:05d} | Time(s) {:.4f} | Loss {:.4f} | \"\n",
        "#             \"ETputs(KTEPS) {:.2f}\".format(epoch, np.mean(dur),\n",
        "#               loss.item(),\n",
        "#               train_g.num_edges() / np.mean(dur) / 1000))"
      ]
    },
    {
      "cell_type": "code",
      "execution_count": 167,
      "metadata": {
        "id": "RZ2HAQDAF-4c",
        "outputId": "79b6374d-390e-4571-df1d-ee46792480f7"
      },
      "outputs": [
        {
          "data": {
            "text/plain": [
              "<All keys matched successfully>"
            ]
          },
          "execution_count": 167,
          "metadata": {},
          "output_type": "execute_result"
        }
      ],
      "source": [
        "dgi.load_state_dict(torch.load('best_dgi.pkl'))"
      ]
    },
    {
      "cell_type": "code",
      "execution_count": 168,
      "metadata": {
        "id": "6Ek16GkRStKP"
      },
      "outputs": [],
      "source": [
        "training_edge_emb = dgi.encoder(train_g, train_g.ndata['h'], train_g.edata['h'])[1]\n",
        "training_edge_emb = training_edge_emb.detach().cpu().numpy()"
      ]
    },
    {
      "cell_type": "code",
      "execution_count": 169,
      "metadata": {},
      "outputs": [],
      "source": [
        "training_node_emb = dgi.encoder(train_g, train_g.ndata['h'], train_g.edata['h'])[0]\n",
        "training_node_emb = training_node_emb.detach().cpu().numpy()"
      ]
    },
    {
      "cell_type": "code",
      "execution_count": 170,
      "metadata": {
        "id": "-FwaBlOdS4ep"
      },
      "outputs": [],
      "source": [
        "test_g.ndata['h'] = torch.reshape(test_g.ndata['h'],\n",
        "                                   (test_g.ndata['h'].shape[0], 1,\n",
        "                                    test_g.ndata['h'].shape[1]))\n",
        "\n",
        "\n",
        "\n",
        "test_g.edata['h'] = torch.reshape(test_g.edata['h'],\n",
        "                                   (test_g.edata['h'].shape[0], 1,\n",
        "                                    test_g.edata['h'].shape[1]))"
      ]
    },
    {
      "cell_type": "code",
      "execution_count": 171,
      "metadata": {
        "id": "SBa-rdivS6cQ"
      },
      "outputs": [],
      "source": [
        "# Convert to GPU\n",
        "test_g = test_g"
      ]
    },
    {
      "cell_type": "code",
      "execution_count": 172,
      "metadata": {
        "id": "W12WLjslS-kx"
      },
      "outputs": [],
      "source": [
        "testing_edge_emb = dgi.encoder(test_g, test_g.ndata['h'], test_g.edata['h'])[1]\n",
        "testing_edge_emb = testing_edge_emb.detach().cpu().numpy()"
      ]
    },
    {
      "cell_type": "code",
      "execution_count": 173,
      "metadata": {},
      "outputs": [],
      "source": [
        "testing_node_emb = dgi.encoder(test_g, test_g.ndata['h'], test_g.edata['h'])[0]\n",
        "testing_node_emb = testing_node_emb.detach().cpu().numpy()"
      ]
    },
    {
      "cell_type": "code",
      "execution_count": 174,
      "metadata": {},
      "outputs": [],
      "source": [
        "df_train_edge = pd.DataFrame(training_edge_emb, )\n",
        "df_train_edge[\"label\"] = train_g.edata['label'].detach().cpu().numpy()\n",
        "\n",
        "df_test_edge = pd.DataFrame(testing_edge_emb, )\n",
        "df_test_edge[\"label\"] = test_g.edata['label'].detach().cpu().numpy()"
      ]
    },
    {
      "cell_type": "code",
      "execution_count": 175,
      "metadata": {
        "id": "ERsOAMjeS_D8"
      },
      "outputs": [],
      "source": [
        "df_train_node = pd.DataFrame(training_node_emb, )\n",
        "df_train_node[\"label\"] = lab_enc.inverse_transform(\n",
        "        train_g.ndata['label'].detach().cpu().numpy())\n",
        "# df_train[\"Label\"] = train_g.edata['Label'].detach().cpu().numpy()\n",
        "\n",
        "df_test_node = pd.DataFrame(testing_node_emb, )\n",
        "df_test_node[\"label\"] = lab_enc.inverse_transform(\n",
        "        test_g.ndata['label'].detach().cpu().numpy())\n",
        "# df_test[\"Label\"] = test_g.edata['Label'].detach().cpu().numpy()"
      ]
    },
    {
      "cell_type": "code",
      "execution_count": 176,
      "metadata": {},
      "outputs": [],
      "source": [
        "df_train_nolabel = df_train_node.drop('label', axis=1)\n",
        "df_test_nolabel = df_test_node.drop('label', axis=1)"
      ]
    },
    {
      "cell_type": "code",
      "execution_count": null,
      "metadata": {},
      "outputs": [],
      "source": [
        "import pandas as pd\n",
        "from sklearn.manifold import TSNE\n",
        "import matplotlib.pyplot as plt\n",
        "import seaborn as sns\n",
        "\n",
        "# t-SNE 모델 생성 및 학습\n",
        "tsne = TSNE(n_components=2, perplexity=30, learning_rate=200, random_state=42)\n",
        "tsne_result = tsne.fit_transform(df_train_nolabel)\n",
        "\n",
        "# t-SNE 결과를 DataFrame으로 변환\n",
        "tsne_df = pd.DataFrame(tsne_result, columns=['TSNE1', 'TSNE2'])\n",
        "tsne_df['label'] = df_train_node['label']\n",
        "\n",
        "# 결과 시각화\n",
        "plt.figure(figsize=(10, 8))\n",
        "sns.scatterplot(x='TSNE1', y='TSNE2', hue='label', data=tsne_df, palette='viridis', alpha=0.5)\n",
        "plt.xlabel('TSNE1')\n",
        "plt.ylabel('TSNE2')\n",
        "plt.title('t-SNE Plot')\n",
        "plt.legend(title='label')\n",
        "plt.show()"
      ]
    },
    {
      "cell_type": "code",
      "execution_count": 178,
      "metadata": {},
      "outputs": [
        {
          "data": {
            "text/html": [
              "<div>\n",
              "<style scoped>\n",
              "    .dataframe tbody tr th:only-of-type {\n",
              "        vertical-align: middle;\n",
              "    }\n",
              "\n",
              "    .dataframe tbody tr th {\n",
              "        vertical-align: top;\n",
              "    }\n",
              "\n",
              "    .dataframe thead th {\n",
              "        text-align: right;\n",
              "    }\n",
              "</style>\n",
              "<table border=\"1\" class=\"dataframe\">\n",
              "  <thead>\n",
              "    <tr style=\"text-align: right;\">\n",
              "      <th></th>\n",
              "      <th>label</th>\n",
              "      <th>label</th>\n",
              "    </tr>\n",
              "  </thead>\n",
              "  <tbody>\n",
              "    <tr>\n",
              "      <th>6774</th>\n",
              "      <td>brute_force</td>\n",
              "      <td>0</td>\n",
              "    </tr>\n",
              "    <tr>\n",
              "      <th>10905</th>\n",
              "      <td>command_injection</td>\n",
              "      <td>1</td>\n",
              "    </tr>\n",
              "    <tr>\n",
              "      <th>2144</th>\n",
              "      <td>csrf</td>\n",
              "      <td>2</td>\n",
              "    </tr>\n",
              "    <tr>\n",
              "      <th>24426</th>\n",
              "      <td>directory_scan</td>\n",
              "      <td>3</td>\n",
              "    </tr>\n",
              "    <tr>\n",
              "      <th>50105</th>\n",
              "      <td>lfi</td>\n",
              "      <td>4</td>\n",
              "    </tr>\n",
              "    <tr>\n",
              "      <th>11449</th>\n",
              "      <td>normal</td>\n",
              "      <td>5</td>\n",
              "    </tr>\n",
              "    <tr>\n",
              "      <th>17287</th>\n",
              "      <td>open_redirect</td>\n",
              "      <td>6</td>\n",
              "    </tr>\n",
              "    <tr>\n",
              "      <th>7552</th>\n",
              "      <td>reflected_xss</td>\n",
              "      <td>7</td>\n",
              "    </tr>\n",
              "    <tr>\n",
              "      <th>36150</th>\n",
              "      <td>sql_injection</td>\n",
              "      <td>8</td>\n",
              "    </tr>\n",
              "    <tr>\n",
              "      <th>5140</th>\n",
              "      <td>ssti</td>\n",
              "      <td>9</td>\n",
              "    </tr>\n",
              "    <tr>\n",
              "      <th>40886</th>\n",
              "      <td>subdomain_takeover</td>\n",
              "      <td>10</td>\n",
              "    </tr>\n",
              "  </tbody>\n",
              "</table>\n",
              "</div>"
            ],
            "text/plain": [
              "                    label  label\n",
              "6774          brute_force      0\n",
              "10905   command_injection      1\n",
              "2144                 csrf      2\n",
              "24426      directory_scan      3\n",
              "50105                 lfi      4\n",
              "11449              normal      5\n",
              "17287       open_redirect      6\n",
              "7552        reflected_xss      7\n",
              "36150       sql_injection      8\n",
              "5140                 ssti      9\n",
              "40886  subdomain_takeover     10"
            ]
          },
          "execution_count": 178,
          "metadata": {},
          "output_type": "execute_result"
        }
      ],
      "source": [
        "a = pd.concat([test_data['label'], test['label']], axis=1)\n",
        "a.drop_duplicates()"
      ]
    },
    {
      "cell_type": "code",
      "execution_count": 179,
      "metadata": {},
      "outputs": [],
      "source": [
        "tsne_df.loc[tsne_df['label'] == 0, 'label'] = 'brute_force'\n",
        "tsne_df.loc[tsne_df['label'] == 1, 'label'] = 'command_injection'\n",
        "tsne_df.loc[tsne_df['label'] == 2, 'label'] = 'csrf'\n",
        "tsne_df.loc[tsne_df['label'] == 3, 'label'] = 'directory_scan'\n",
        "tsne_df.loc[tsne_df['label'] == 4, 'label'] = 'lfi'\n",
        "tsne_df.loc[tsne_df['label'] == 5, 'label'] = 'normal'\n",
        "tsne_df.loc[tsne_df['label'] == 6, 'label'] = 'open_redirect'\n",
        "tsne_df.loc[tsne_df['label'] == 7, 'label'] = 'reflected_xss'\n",
        "tsne_df.loc[tsne_df['label'] == 8, 'label'] = 'sql_injection'\n",
        "tsne_df.loc[tsne_df['label'] == 9, 'label'] = 'ssti'\n",
        "tsne_df.loc[tsne_df['label'] == 10, 'label'] = 'subdomain_takeover'\n",
        "tsne_df['IP'] = train_g_nodeName"
      ]
    },
    {
      "cell_type": "code",
      "execution_count": 180,
      "metadata": {},
      "outputs": [],
      "source": [
        "tsne_df.to_csv(\"train.csv\", index=False)"
      ]
    },
    {
      "cell_type": "code",
      "execution_count": null,
      "metadata": {},
      "outputs": [],
      "source": [
        "import pandas as pd\n",
        "from sklearn.manifold import TSNE\n",
        "import matplotlib.pyplot as plt\n",
        "import seaborn as sns\n",
        "\n",
        "# t-SNE 모델 생성 및 학습\n",
        "tsne = TSNE(n_components=2, perplexity=30, learning_rate=200, random_state=42)\n",
        "tsne_result = tsne.fit_transform(df_test_nolabel)\n",
        "\n",
        "# t-SNE 결과를 DataFrame으로 변환\n",
        "tsne_df = pd.DataFrame(tsne_result, columns=['TSNE1', 'TSNE2'])\n",
        "tsne_df['label'] = df_test_node['label']\n",
        "\n",
        "# 결과 시각화\n",
        "plt.figure(figsize=(10, 8))\n",
        "sns.scatterplot(x='TSNE1', y='TSNE2', hue='label', data=tsne_df, palette='viridis', alpha=0.5)\n",
        "plt.xlabel('TSNE1')\n",
        "plt.ylabel('TSNE2')\n",
        "plt.title('t-SNE Plot')\n",
        "plt.legend(title='label')\n",
        "plt.show()"
      ]
    },
    {
      "cell_type": "code",
      "execution_count": 182,
      "metadata": {},
      "outputs": [],
      "source": [
        "tsne_df.loc[tsne_df['label'] == 0, 'label'] = 'brute_force'\n",
        "tsne_df.loc[tsne_df['label'] == 1, 'label'] = 'command_injection'\n",
        "tsne_df.loc[tsne_df['label'] == 2, 'label'] = 'csrf'\n",
        "tsne_df.loc[tsne_df['label'] == 3, 'label'] = 'directory_scan'\n",
        "tsne_df.loc[tsne_df['label'] == 4, 'label'] = 'lfi'\n",
        "tsne_df.loc[tsne_df['label'] == 5, 'label'] = 'normal'\n",
        "tsne_df.loc[tsne_df['label'] == 6, 'label'] = 'open_redirect'\n",
        "tsne_df.loc[tsne_df['label'] == 7, 'label'] = 'reflected_xss'\n",
        "tsne_df.loc[tsne_df['label'] == 8, 'label'] = 'sql_injection'\n",
        "tsne_df.loc[tsne_df['label'] == 9, 'label'] = 'ssti'\n",
        "tsne_df.loc[tsne_df['label'] == 10, 'label'] = 'subdomain_takeover'\n",
        "tsne_df['IP'] = test_g_nodeName"
      ]
    },
    {
      "cell_type": "code",
      "execution_count": 183,
      "metadata": {},
      "outputs": [],
      "source": [
        "tsne_df.to_csv(\"test.csv\", index=False)"
      ]
    }
  ],
  "metadata": {
    "accelerator": "GPU",
    "colab": {
      "provenance": []
    },
    "kernelspec": {
      "display_name": "Python 3",
      "language": "python",
      "name": "python3"
    },
    "language_info": {
      "codemirror_mode": {
        "name": "ipython",
        "version": 3
      },
      "file_extension": ".py",
      "mimetype": "text/x-python",
      "name": "python",
      "nbconvert_exporter": "python",
      "pygments_lexer": "ipython3",
      "version": "3.11.7"
    }
  },
  "nbformat": 4,
  "nbformat_minor": 0
}
